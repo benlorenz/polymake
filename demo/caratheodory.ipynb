{
 "cells": [
  {
   "cell_type": "markdown",
   "metadata": {},
   "source": [
    "## A Counter-example to an integer analog to Caratheodory's Theorem\n",
    "\n",
    "### The construction\n",
    "\n",
    "This tutorial describes the construction of a specific rational cone in six dimensions which is due to:\n",
    "\n",
    "*  Bruns, Winfried; Gubeladze, Joseph; Henk, Martin; Martin, Alexander; Weismantel, Robert: A counterexample to an integer analogue of Carathéodory's theorem.  J. Reine Angew. Math. 510 (1999), 179-185.\n",
    "\n",
    "The rows of this matrix describe a cone *C*:\n",
    "\n",
    "    \n"
   ]
  },
  {
   "cell_type": "code",
   "execution_count": null,
   "metadata": {},
   "outputs": [],
   "source": [
    "$M = new Matrix<Rational>([[0,1,0,0,0,0],\n",
    "[0,0,1,0,0,0],\n",
    "[0,0,0,1,0,0],\n",
    "[0,0,0,0,1,0],\n",
    "[0,0,0,0,0,1],\n",
    "[1,0,2,1,1,2],\n",
    "[1,2,0,2,1,1],\n",
    "[1,1,2,0,2,1],\n",
    "[1,1,1,2,0,2],\n",
    "[1,2,1,1,2,0]]);\n",
    "$C=new Polytope<Rational>(POINTS=>$M);"
   ]
  },
  {
   "cell_type": "markdown",
   "metadata": {},
   "source": [
    "\n",
    "\n",
    "From\n",
    "\n",
    "    \n"
   ]
  },
  {
   "cell_type": "code",
   "execution_count": null,
   "metadata": {},
   "outputs": [
    {
     "data": {
      "text/plain": [
       "0 0 0 0 0 1\n",
       "0 0 0 0 1 0\n",
       "0 0 0 1 0 0\n",
       "0 0 1 0 0 0\n",
       "1 0 2 1 1 2\n",
       "0 1 0 0 0 0\n",
       "1 1 1 2 0 2\n",
       "1 1 2 0 2 1\n",
       "1 2 0 2 1 1\n",
       "1 2 1 1 2 0\n",
       "\n"
      ]
     },
     "execution_count": 0,
     "metadata": {},
     "output_type": "execute_result"
    }
   ],
   "source": [
    "print $C->HILBERT_BASIS;"
   ]
  },
  {
   "cell_type": "markdown",
   "metadata": {},
   "source": [
    "one can see that the given generators of *C* form a Hilbert basis.  Now we consider one particular point *x*.  The output of the second command (all coefficients positive) shows that *x* is contained in the interior of *C*.\n",
    "\n",
    "    \n"
   ]
  },
  {
   "cell_type": "code",
   "execution_count": null,
   "metadata": {},
   "outputs": [
    {
     "data": {
      "text/plain": [
       "8 15 19/2 19/2 17 13 17 13 9 13 13 17 8 19/2 13 17 15 19/2 15 15 19/2 17 11 15 8 8 8\n",
       "\n"
      ]
     },
     "execution_count": 0,
     "metadata": {},
     "output_type": "execute_result"
    }
   ],
   "source": [
    "$x=new Vector<Rational>([9,13,13,13,13,13]);\n",
    "print $C->FACETS * $x;"
   ]
  },
  {
   "cell_type": "markdown",
   "metadata": {},
   "source": [
    "\n",
    "The following loop iterates over all invertible 6x6 submatrices of *M* and computes the unique representation of *x* as a linear combination of the rows of the submatrix.  The output (suppressed as it is too long) shows that each such linear combination requires at least one negative or one non-integral coefficient.\n",
    "\n",
    "    \n"
   ]
  },
  {
   "cell_type": "code",
   "execution_count": null,
   "metadata": {},
   "outputs": [],
   "source": [
    "foreach (@{all_subsets_of_k(range(0,9),6)}) {\n",
    "  $B = $M->minor($_,All);\n",
    "  if (det($B)) {\n",
    "    print lin_solve(transpose($B),$x), \"\\n\";\n",
    "  }\n",
    "}"
   ]
  },
  {
   "cell_type": "markdown",
   "metadata": {},
   "source": [
    "\n",
    "This means that *x* cannot be represented as a non-negative linear combination of any six of the given generators of *C*.\n",
    "\n",
    "### Analyzing the combinatorics\n",
    "\n",
    "The following is taken from\n",
    "\n",
    "*  Michael Joswig, Benjamin Müller, and Andreas Paffenholz: `polymake` and lattice polytopes.  In Christian Krattenthaler, Volker Strehl and Manuel Kauers (eds.), Proceedings of the 21th International Conference on Formal Power Series and Algebraic Combinatoric, Hagenberg, Austria, 2009, pp. 493-504.\n",
    "\n",
    "    \n"
   ]
  },
  {
   "cell_type": "code",
   "execution_count": null,
   "metadata": {},
   "outputs": [],
   "source": [
    "print $C->N_VERTICES, \" \", $C->DIM;\n",
    "print rows_labeled($C->VERTICES_IN_FACETS);"
   ]
  },
  {
   "cell_type": "markdown",
   "metadata": {},
   "source": [
    "\n",
    "\n",
    "There are two disjoint facets covering all the vertices. Beware the numbering of facets depends on the convex hull algorithm employed.\n",
    "\n",
    "    \n"
   ]
  },
  {
   "cell_type": "code",
   "execution_count": null,
   "metadata": {},
   "outputs": [],
   "source": [
    "print $C->VERTICES_IN_FACETS->[8];\n",
    "print $C->VERTICES_IN_FACETS->[22];"
   ]
  },
  {
   "cell_type": "markdown",
   "metadata": {},
   "source": [
    "\n",
    "\n",
    "    \n"
   ]
  },
  {
   "cell_type": "code",
   "execution_count": null,
   "metadata": {},
   "outputs": [],
   "source": [
    "print rows_labeled($M);"
   ]
  },
  {
   "cell_type": "markdown",
   "metadata": {},
   "source": [
    "\n",
    "\n",
    "Here is another polytope which is somewhat similar but not quite the same.\n",
    "\n",
    "    \n"
   ]
  },
  {
   "cell_type": "code",
   "execution_count": null,
   "metadata": {},
   "outputs": [],
   "source": [
    "$cross5=cross(5);\n",
    "print isomorphic($C,$cross5);\n",
    "print isomorphic($C->GRAPH->ADJACENCY,$cross5->GRAPH->ADJACENCY);"
   ]
  },
  {
   "cell_type": "markdown",
   "metadata": {},
   "source": [
    "\n",
    "\n",
    "    \n"
   ]
  },
  {
   "cell_type": "code",
   "execution_count": null,
   "metadata": {},
   "outputs": [],
   "source": [
    "print $cross5->F_VECTOR - $C->F_VECTOR;"
   ]
  },
  {
   "cell_type": "markdown",
   "metadata": {},
   "source": [
    "\n",
    "Look at two facets of the five-dimensional cross polytope and their positions in the dual graph.\n",
    "\n",
    "    \n"
   ]
  },
  {
   "cell_type": "code",
   "execution_count": null,
   "metadata": {},
   "outputs": [],
   "source": [
    "print $cross5->VERTICES_IN_FACETS->[12];\n",
    "print $cross5->VERTICES_IN_FACETS->[13];\n",
    "print rows_labeled($cross5->DUAL_GRAPH->ADJACENCY);"
   ]
  },
  {
   "cell_type": "markdown",
   "metadata": {},
   "source": [
    "\n",
    "\n",
    "Now we construct a new graph by manipulating the dual graph of the cross polytope by contracting a perfect matching.\n",
    "\n",
    "    \n"
   ]
  },
  {
   "cell_type": "code",
   "execution_count": null,
   "metadata": {},
   "outputs": [],
   "source": [
    "$g=new props::Graph($cross5->DUAL_GRAPH->ADJACENCY);\n",
    "$g->contract_edge(12,13);\n",
    "$g->contract_edge(24,26);\n",
    "$g->contract_edge(17,21);\n",
    "$g->contract_edge(3,11);\n",
    "$g->contract_edge(6,22);\n",
    "$g->squeeze;"
   ]
  },
  {
   "cell_type": "markdown",
   "metadata": {},
   "source": [
    "\n",
    "The last command renumbers the nodes sequentially, starting from 0.  This is necessary to render the graph a valid object.\n",
    "\n",
    "    \n"
   ]
  },
  {
   "cell_type": "code",
   "execution_count": null,
   "metadata": {},
   "outputs": [],
   "source": [
    "print isomorphic($C->DUAL_GRAPH->ADJACENCY,$g);"
   ]
  },
  {
   "cell_type": "markdown",
   "metadata": {},
   "source": [
    "\n",
    "This finally reveals the combinatorial structure: The cone *C* is a cone over a 5-polytope which can be obtained from the 5-dimensional cross polytope by ``straightening` five pairs of adjacent (simplex) facets into bipyramids over 3-simplices.\n"
   ]
  }
 ],
 "metadata": {
  "kernelspec": {
   "display_name": "polymake",
   "language": "polymake",
   "name": "polymake"
  },
  "language_info": {
   "codemirror_mode": "perl",
   "file_extension": ".pl",
   "mimetype": "text/x-polymake",
   "name": "polymake"
  }
 },
 "nbformat": 4,
 "nbformat_minor": 2
}
